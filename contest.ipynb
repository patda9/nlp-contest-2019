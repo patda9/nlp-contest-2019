{
 "cells": [
  {
   "cell_type": "code",
   "execution_count": 1,
   "metadata": {},
   "outputs": [
    {
     "name": "stderr",
     "output_type": "stream",
     "text": [
      "Using TensorFlow backend.\n"
     ]
    }
   ],
   "source": [
    "import classifier\n",
    "import utitlities\n",
    "\n",
    "import json\n",
    "import sys\n",
    "import re\n",
    "\n",
    "import numpy as np"
   ]
  },
  {
   "cell_type": "code",
   "execution_count": 2,
   "metadata": {},
   "outputs": [
    {
     "name": "stdout",
     "output_type": "stream",
     "text": [
      "2363\n",
      "(2363,)\n"
     ]
    }
   ],
   "source": [
    "raw_labels, raw_sentences = utitlities.get_dataset(path='./dataset/', l='ans.txt', s='input.txt')\n",
    "\n",
    "white_space_match = re.compile(r\"[ \\s]\")\n",
    "for i in range(len(raw_sentences)):\n",
    "    raw_sentences[i] = utitlities.preprocess_sentence(raw_sentences[i])\n",
    "    raw_sentences[i] = utitlities.tokenize_sentence(raw_sentences[i])\n",
    "    raw_sentences[i] = utitlities.break_english(raw_sentences[i])\n",
    "    raw_sentences[i] = utitlities.preprocess_sentence(raw_sentences[i], pattern=white_space_match)\n",
    "\n",
    "sentences = raw_sentences\n",
    "\n",
    "labels = np.array(raw_labels)\n",
    "labels[labels == 'H'] = 0\n",
    "labels[labels == 'P'] = 1\n",
    "labels[labels == 'M'] = 2\n",
    "labels = labels.astype(int)\n",
    "\n",
    "print(len(sentences))\n",
    "print(labels.shape)"
   ]
  },
  {
   "cell_type": "code",
   "execution_count": 3,
   "metadata": {},
   "outputs": [
    {
     "name": "stdout",
     "output_type": "stream",
     "text": [
      "(2363, 78, 300)\n",
      "2236\n"
     ]
    }
   ],
   "source": [
    "wv, _ = utitlities.vectorize_tokens(sentences, wv_path='C:/Users/Patdanai/Desktop/261499-nlp/lab/cc.th.300.vec', return_vocab_wvs=1)\n",
    "print(wv.shape)\n",
    "print(len(_))"
   ]
  },
  {
   "cell_type": "code",
   "execution_count": null,
   "metadata": {},
   "outputs": [],
   "source": []
  }
 ],
 "metadata": {
  "kernelspec": {
   "display_name": "Python 3",
   "language": "python",
   "name": "python3"
  },
  "language_info": {
   "codemirror_mode": {
    "name": "ipython",
    "version": 3
   },
   "file_extension": ".py",
   "mimetype": "text/x-python",
   "name": "python",
   "nbconvert_exporter": "python",
   "pygments_lexer": "ipython3",
   "version": "3.6.6"
  }
 },
 "nbformat": 4,
 "nbformat_minor": 2
}
